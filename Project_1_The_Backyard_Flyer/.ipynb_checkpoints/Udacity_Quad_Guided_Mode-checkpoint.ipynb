{
 "cells": [
  {
   "cell_type": "code",
   "execution_count": null,
   "id": "cac0d38b",
   "metadata": {},
   "outputs": [],
   "source": [
    "#Initializing the Drone\n",
    "\n",
    "From udacidrone import Drone\n",
    "From udacidrone.connection import MavlinkConnection\n",
    "conn = MavlinkConnection('tcp:127.0.0.1:5760', threaded = true) #With threaded=True requests are each handled in a new thread. How many threads your server can handle concurrently depends entirely on your OS and what limits it sets on the number of threads per process. \n",
    "drone = Drone(conn)\n",
    "drone.start() #start() command implies to start receiving messages from the Drone"
   ]
  },
  {
   "cell_type": "code",
   "execution_count": null,
   "id": "90ca5b27",
   "metadata": {},
   "outputs": [],
   "source": [
    "#Taking Control of the Drone\n",
    "\n",
    "drone.take_control() #Sets the command mode to guided\n",
    "drone.arm() #arms the motors, motors start to spin but cannot takeoff yet until given a command"
   ]
  },
  {
   "cell_type": "code",
   "execution_count": null,
   "id": "2b101fad",
   "metadata": {},
   "outputs": [],
   "source": [
    "#Setting the Drone's home position\n",
    "\n",
    "drone.set_home_position(drone.global_position[0],\n",
    "                        drone.global_position[1],\n",
    "                        drone.global_position[2])"
   ]
  },
  {
   "cell_type": "code",
   "execution_count": null,
   "id": "5aa3d510",
   "metadata": {},
   "outputs": [],
   "source": [
    "#Take off the drone\n",
    "\n",
    "drone.takeoff(3) #takeoff function takes in the argument of height in meters to takeoff"
   ]
  },
  {
   "cell_type": "code",
   "execution_count": null,
   "id": "6d2403f3",
   "metadata": {},
   "outputs": [],
   "source": [
    "#Flyaround by commanding drone to waypoints\n",
    "\n",
    "drone.cmd_position(5,0,3,0) #cmd_position(north,east,down,heading), commands drone to travel to a local position and maintain a specific heading"
   ]
  },
  {
   "cell_type": "code",
   "execution_count": null,
   "id": "2c5f6729",
   "metadata": {},
   "outputs": [],
   "source": [
    "drone.release_control() #Change the mode back to manual"
   ]
  },
  {
   "cell_type": "code",
   "execution_count": null,
   "id": "e81a481e",
   "metadata": {},
   "outputs": [],
   "source": [
    "drone.disarm() # Land the drone using manual mode then disarm the motors"
   ]
  },
  {
   "cell_type": "code",
   "execution_count": null,
   "id": "fb7f405e",
   "metadata": {},
   "outputs": [],
   "source": [
    "drone.stop() #terminate the connection"
   ]
  }
 ],
 "metadata": {
  "kernelspec": {
   "display_name": "Python 3",
   "language": "python",
   "name": "python3"
  },
  "language_info": {
   "codemirror_mode": {
    "name": "ipython",
    "version": 3
   },
   "file_extension": ".py",
   "mimetype": "text/x-python",
   "name": "python",
   "nbconvert_exporter": "python",
   "pygments_lexer": "ipython3",
   "version": "3.6.3"
  }
 },
 "nbformat": 4,
 "nbformat_minor": 5
}
