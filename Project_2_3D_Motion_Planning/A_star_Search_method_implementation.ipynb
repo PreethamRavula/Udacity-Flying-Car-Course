{
 "cells": [
  {
   "cell_type": "code",
   "execution_count": 1,
   "id": "523949b9",
   "metadata": {},
   "outputs": [],
   "source": [
    "import numpy as np\n",
    "from queue import PriorityQueue\n",
    "from enum import Enum\n",
    "import math"
   ]
  },
  {
   "cell_type": "code",
   "execution_count": 4,
   "id": "272b4876",
   "metadata": {},
   "outputs": [],
   "source": [
    "start = (0, 0)\n",
    "goal = (4, 4)\n",
    "grid = np.array([\n",
    "    [0, 1, 0, 0, 0, 0],\n",
    "    [0, 0, 0, 0, 0, 0],\n",
    "    [0, 1, 0, 0, 0, 0],\n",
    "    [0, 0, 0, 1, 1, 0],\n",
    "    [0, 0, 0, 1, 0, 0],\n",
    "])"
   ]
  },
  {
   "cell_type": "code",
   "execution_count": 2,
   "id": "3ff3c3e0",
   "metadata": {},
   "outputs": [],
   "source": [
    "# Implemention of class Action of type enum:\n",
    "class Action(Enum):\n",
    "    \n",
    "    UP = (-1, 0, 1)\n",
    "    DOWN = (1, 0, 1)\n",
    "    LEFT = (0, -1, 1)\n",
    "    RIGHT = (0, 1, 1)\n",
    "    \n",
    "    def __str__(self):\n",
    "        \n",
    "        if self == self.UP:\n",
    "            return '^'\n",
    "        \n",
    "        elif self == self.DOWN:\n",
    "            return 'V'\n",
    "        \n",
    "        elif self == self.LEFT:\n",
    "            return '<'\n",
    "        \n",
    "        elif self == self.RIGHT:\n",
    "            return '>'\n",
    "    \n",
    "    @property\n",
    "    def cost(self):\n",
    "        return self.value[2]\n",
    "    \n",
    "    @property\n",
    "    def delta(self):\n",
    "        return (self.value[0], self.value[1])"
   ]
  },
  {
   "cell_type": "code",
   "execution_count": 3,
   "id": "7bb771a8",
   "metadata": {},
   "outputs": [],
   "source": [
    "def valid_actions(grid, current_node):\n",
    "    \n",
    "    valid = [Action.UP, Action.DOWN, Action.LEFT, Action.RIGHT]\n",
    "    n, m = grid.shape[0] - 1, grid.shape[1] - 1\n",
    "    x, y = current_node\n",
    "    \n",
    "    if x - 1 < 0 or grid[x-1, y] == 1:\n",
    "        valid.remove(Action.UP)\n",
    "        \n",
    "    if x + 1 > n or grid[x+1, y] == 1:\n",
    "        valid.remove(Action.DOWN)\n",
    "    \n",
    "    if y - 1 < 0 or grid[x, y-1] == 1:\n",
    "        valid.remove(Action.LEFT)\n",
    "        \n",
    "    if y + 1 > m or grid[x, y+1] == 1:\n",
    "        valid.remove(Action.RIGHT)\n",
    "        \n",
    "    return valid"
   ]
  },
  {
   "cell_type": "code",
   "execution_count": 5,
   "id": "565d7350",
   "metadata": {},
   "outputs": [],
   "source": [
    "def visualize_path(grid, start, goal):\n",
    "    \n",
    "    sgrid = np.zeros(np.shape(grid), dtype = np.str)\n",
    "    sgrid[:] = ' '\n",
    "    sgrid[grid[:] == 1] = 'O'\n",
    "    pos = start\n",
    "    \n",
    "    for a in path:\n",
    "        \n",
    "        da = a.value\n",
    "        sgrid[pos[0], pos[1]] = str(a)\n",
    "        pos = (pos[0] + da[0], pos[1] + da[1])\n",
    "    sgrid[pos[0], pos[1]] = 'G'\n",
    "    sgrid[start[0], start[1]] = 'S'\n",
    "    return sgrid"
   ]
  },
  {
   "cell_type": "code",
   "execution_count": 6,
   "id": "6b7d9439",
   "metadata": {},
   "outputs": [],
   "source": [
    "def heuristic(position, goal_position):\n",
    "    h = math.sqrt((position[0] - goal_position[0])**2 + (position[0] - goal_position[0])**2)\n",
    "    return h"
   ]
  },
  {
   "cell_type": "code",
   "execution_count": 11,
   "id": "7ebddc19",
   "metadata": {},
   "outputs": [],
   "source": [
    "def a_star(grid, h, start, goal):\n",
    "    \n",
    "    path = []\n",
    "    path_cost = 0\n",
    "    q = PriorityQueue()\n",
    "    q.put((0, start))\n",
    "    visited = set()\n",
    "    visited.add(start)\n",
    "    \n",
    "    branch = {}\n",
    "    found = False\n",
    "    \n",
    "    while not q.empty():\n",
    "        \n",
    "        item = q.get()\n",
    "        current_node = item[1]\n",
    "        \n",
    "        if current_node == start:\n",
    "            current_cost = 0.0\n",
    "            \n",
    "        else:\n",
    "            current_cost = branch[current_node][0]\n",
    "        \n",
    "        if current_node == goal:\n",
    "            print(\"Found a path\")\n",
    "            found = True\n",
    "            break\n",
    "            \n",
    "        else:\n",
    "            \n",
    "            for action in valid_actions(grid, current_node):\n",
    "                \n",
    "                da = action.delta\n",
    "                next_node = (current_node[0] + da[0], current_node[1] + da[1])\n",
    "                branch_cost = current_cost + action.cost\n",
    "                queue_cost = branch_cost + h(next_node, goal)\n",
    "                \n",
    "                if next_node not in visited:\n",
    "                    q.put((queue_cost, next_node))\n",
    "                    visited.add(next_node)\n",
    "                    branch[next_node] = (queue_cost, current_node, action)\n",
    "                    \n",
    "    \n",
    "    if found:\n",
    "        \n",
    "        n = goal\n",
    "        path_cost = branch[n][0]\n",
    "        while branch[n][1] != start:\n",
    "            path.append(branch[n][2])\n",
    "            n = branch[n][1]\n",
    "        path.append(branch[n][2])\n",
    "        \n",
    "    else:\n",
    "        \n",
    "        print('*********************')\n",
    "        print('Failed to find a path')\n",
    "        print('*********************')\n",
    "        \n",
    "    return path[::-1], path_cost"
   ]
  },
  {
   "cell_type": "code",
   "execution_count": 12,
   "id": "a703bb5d",
   "metadata": {},
   "outputs": [
    {
     "name": "stdout",
     "output_type": "stream",
     "text": [
      "Found a path\n",
      "[<Action.DOWN: (1, 0, 1)>, <Action.RIGHT: (0, 1, 1)>, <Action.RIGHT: (0, 1, 1)>, <Action.DOWN: (1, 0, 1)>, <Action.RIGHT: (0, 1, 1)>, <Action.RIGHT: (0, 1, 1)>, <Action.RIGHT: (0, 1, 1)>, <Action.DOWN: (1, 0, 1)>, <Action.DOWN: (1, 0, 1)>, <Action.LEFT: (0, -1, 1)>] 35.45584412271572\n"
     ]
    }
   ],
   "source": [
    "path, path_cost = a_star(grid, heuristic, start, goal)\n",
    "print(path, path_cost)"
   ]
  },
  {
   "cell_type": "code",
   "execution_count": 13,
   "id": "1320cc2e",
   "metadata": {},
   "outputs": [
    {
     "name": "stdout",
     "output_type": "stream",
     "text": [
      "[['S' 'O' ' ' ' ' ' ' ' ']\n",
      " ['>' '>' 'V' ' ' ' ' ' ']\n",
      " [' ' 'O' '>' '>' '>' 'V']\n",
      " [' ' ' ' ' ' 'O' 'O' 'V']\n",
      " [' ' ' ' ' ' 'O' 'G' '<']]\n"
     ]
    }
   ],
   "source": [
    "path_rep = visualize_path(grid, start, goal)\n",
    "print(path_rep)"
   ]
  }
 ],
 "metadata": {
  "kernelspec": {
   "display_name": "Python 3",
   "language": "python",
   "name": "python3"
  },
  "language_info": {
   "codemirror_mode": {
    "name": "ipython",
    "version": 3
   },
   "file_extension": ".py",
   "mimetype": "text/x-python",
   "name": "python",
   "nbconvert_exporter": "python",
   "pygments_lexer": "ipython3",
   "version": "3.6.3"
  }
 },
 "nbformat": 4,
 "nbformat_minor": 5
}
