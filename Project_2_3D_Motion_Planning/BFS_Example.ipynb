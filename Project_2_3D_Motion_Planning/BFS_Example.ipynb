{
 "cells": [
  {
   "cell_type": "markdown",
   "id": "bf18b93f",
   "metadata": {},
   "source": [
    "# Breadth First Search Implementation:"
   ]
  },
  {
   "cell_type": "code",
   "execution_count": 5,
   "id": "af681bad",
   "metadata": {},
   "outputs": [],
   "source": [
    "from queue import Queue\n",
    "from enum import Enum"
   ]
  },
  {
   "cell_type": "code",
   "execution_count": 2,
   "id": "4ffe23cf",
   "metadata": {},
   "outputs": [],
   "source": [
    "start = (1,0)\n",
    "q = Queue()\n",
    "q.put(start)"
   ]
  },
  {
   "cell_type": "code",
   "execution_count": 3,
   "id": "ba36cc34",
   "metadata": {},
   "outputs": [
    {
     "name": "stdout",
     "output_type": "stream",
     "text": [
      "{(1, 0)}\n"
     ]
    }
   ],
   "source": [
    "visited = set()\n",
    "visited.add(start)\n",
    "print(visited)"
   ]
  },
  {
   "cell_type": "code",
   "execution_count": 4,
   "id": "02d675b6",
   "metadata": {},
   "outputs": [],
   "source": [
    "branch = {}\n",
    "goal = (1,4)"
   ]
  },
  {
   "cell_type": "code",
   "execution_count": 6,
   "id": "0eb758a7",
   "metadata": {},
   "outputs": [],
   "source": [
    "class Action(Enum):\n",
    "    LEFT = (0, -1)\n",
    "    RIGHT = (0, 1)\n",
    "    UP = (-1, 0)\n",
    "    DOWN = (1, 0)\n",
    "    \n",
    "    def __str__(self):\n",
    "        if self == self.LEFT:\n",
    "            return '<'\n",
    "        elif self == self.RIGHT:\n",
    "            return '>'\n",
    "        elif self == self.UP:\n",
    "            return '^'\n",
    "        elif self == self.DOWN:\n",
    "            return 'v'"
   ]
  },
  {
   "cell_type": "code",
   "execution_count": 11,
   "id": "65718b00",
   "metadata": {},
   "outputs": [],
   "source": [
    "valid = [Action.UP, Action.RIGHT, Action.DOWN]"
   ]
  },
  {
   "cell_type": "code",
   "execution_count": 16,
   "id": "6d1872ea",
   "metadata": {},
   "outputs": [
    {
     "name": "stdout",
     "output_type": "stream",
     "text": [
      "deque([(1, 0), (0, 0), (2, 0), (1, 1)])\n",
      "{(1, 0), (1, 1), (2, 0), (0, 0)}\n",
      "{(0, 0): ((1, 0), <Action.UP: (-1, 0)>), (2, 0): ((1, 0), <Action.DOWN: (1, 0)>), (1, 1): ((1, 0), <Action.RIGHT: (0, 1)>)}\n"
     ]
    }
   ],
   "source": [
    "current_node = start\n",
    "for action in valid:\n",
    "    #delta of performing the action:\n",
    "    da = action.value\n",
    "    next_node = (current_node[0] + da[0], current_node[1] + da[1])\n",
    "    \n",
    "    #need to check if new node is visited before\n",
    "    #If not then:\n",
    "    #1) Mark new node as visited\n",
    "    #2) Add it to the queue\n",
    "    #3) Add how we got there to the dicitionary\n",
    "    \n",
    "    if next_node not in visited:\n",
    "        visited.add(next_node)\n",
    "        q.put(next_node)\n",
    "        branch[next_node] = (current_node, action)\n",
    "\n",
    "print(q.queue)\n",
    "print(visited)\n",
    "print(branch)"
   ]
  },
  {
   "cell_type": "code",
   "execution_count": 18,
   "id": "eecbe4d2",
   "metadata": {},
   "outputs": [],
   "source": [
    "# Retrace your path:\n",
    "# path = []\n",
    "# n = goal\n",
    "# while branch[n][0] != start:\n",
    "#     path.append(branch[n][1])\n",
    "#     n = branch[n][0]\n",
    "# path.append(branch[n][1])\n",
    "\n",
    "# path = path[::-1]"
   ]
  }
 ],
 "metadata": {
  "kernelspec": {
   "display_name": "Python 3",
   "language": "python",
   "name": "python3"
  },
  "language_info": {
   "codemirror_mode": {
    "name": "ipython",
    "version": 3
   },
   "file_extension": ".py",
   "mimetype": "text/x-python",
   "name": "python",
   "nbconvert_exporter": "python",
   "pygments_lexer": "ipython3",
   "version": "3.6.3"
  }
 },
 "nbformat": 4,
 "nbformat_minor": 5
}
