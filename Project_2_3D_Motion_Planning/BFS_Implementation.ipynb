{
 "cells": [
  {
   "cell_type": "code",
   "execution_count": 31,
   "id": "46c940b7",
   "metadata": {},
   "outputs": [],
   "source": [
    "# Importing necessary libraries\n",
    "import numpy as np\n",
    "from enum import Enum\n",
    "from queue import Queue"
   ]
  },
  {
   "cell_type": "code",
   "execution_count": 32,
   "id": "93108dd2",
   "metadata": {},
   "outputs": [],
   "source": [
    "# Defining the goal and start location for search:\n",
    "start = (0, 0)\n",
    "goal = (4, 4)\n",
    "# Defining grid in form of an np array:\n",
    "grid = np.array([\n",
    "                [0, 1, 0, 0, 0, 0],\n",
    "                [0, 1, 0, 0, 0, 0],\n",
    "                [0, 1, 0, 1, 0, 0],\n",
    "                [0, 0, 0, 1, 1, 0],\n",
    "                [0, 0, 0, 1, 0, 0],\n",
    "                ])"
   ]
  },
  {
   "cell_type": "code",
   "execution_count": 33,
   "id": "533502bf",
   "metadata": {},
   "outputs": [],
   "source": [
    "# Defining action class using Enum:\n",
    "class Action(Enum):\n",
    "    \n",
    "    UP = (-1, 0)\n",
    "    DOWN = (1, 0)\n",
    "    LEFT = (0, -1)\n",
    "    RIGHT = (0, 1)\n",
    "    \n",
    "    # Defining the string representation:\n",
    "    def __str__(self):\n",
    "        \n",
    "        if self == self.UP:\n",
    "            return \"^\"\n",
    "        elif self == self.DOWN:\n",
    "            return \"v\"\n",
    "        elif self == self.LEFT:\n",
    "            return \"<\"\n",
    "        elif self == self.RIGHT:\n",
    "            return \">\"\n",
    "    "
   ]
  },
  {
   "cell_type": "code",
   "execution_count": 34,
   "id": "8ba7c861",
   "metadata": {},
   "outputs": [],
   "source": [
    "# Defining a function that returns a valid action when given an input of grid and current node:\n",
    "\n",
    "def valid_actions(grid, current_node):\n",
    "    \n",
    "    #List of all possible actions:\n",
    "    valid = [Action.UP, Action.DOWN, Action.LEFT, Action.RIGHT]\n",
    "    \n",
    "    #Defining grid shape:\n",
    "    n, m = grid.shape[0] - 1, grid.shape[1] - 1\n",
    "    \n",
    "    #Current_node:\n",
    "    x, y = current_node\n",
    "    \n",
    "    #Checking if node is off-grid or if an obstacle is present:\n",
    "    if x - 1 < 0 or grid[x - 1, y] == 1:\n",
    "        valid.remove(Action.UP)\n",
    "        \n",
    "    if x + 1 > n or grid[x + 1, y] == 1:\n",
    "        valid.remove(Action.DOWN)\n",
    "        \n",
    "    if y - 1 < 0 or grid[x, y - 1] == 1:\n",
    "        valid.remove(Action.LEFT)\n",
    "        \n",
    "    if y + 1 > m or grid[x, y + 1] == 1:\n",
    "        valid.remove(Action.RIGHT)\n",
    "        \n",
    "    return valid"
   ]
  },
  {
   "cell_type": "code",
   "execution_count": 35,
   "id": "ace4c7cb",
   "metadata": {},
   "outputs": [],
   "source": [
    "# Function to visualize the path in grid after search process is Done:\n",
    "\n",
    "def visualize_path(grid, start, goal):\n",
    "    \"\"\"\n",
    "    Given a grid, start and goal positions this function will visualize the path\n",
    "    'S' --> Start\n",
    "    'G' --> Goal\n",
    "    'O' --> Obstacle\n",
    "    ' ' --> Empty\n",
    "    \n",
    "    \"\"\"\n",
    "    \n",
    "    sgrid = np.zeros(np.shape(grid), dtype = np.str)\n",
    "    sgrid[:] = ' '\n",
    "    sgrid[grid[:] == 1] = 'O'\n",
    "    pos = start\n",
    "    \n",
    "    for a in path:\n",
    "        da = a.value\n",
    "        sgrid[pos[0], pos[1]] = str(a)\n",
    "        pos = (pos[0] + da[0], pos[1] + da[1])\n",
    "        \n",
    "    sgrid[pos[0], pos[1]] = 'G'\n",
    "    sgrid[start[0], start[1]] = 'S'\n",
    "    return sgrid\n",
    "        "
   ]
  },
  {
   "cell_type": "code",
   "execution_count": 36,
   "id": "da27489f",
   "metadata": {},
   "outputs": [],
   "source": [
    "# BFS Algorithm:\n",
    "\n",
    "def breadth_first(grid, start, goal):\n",
    "    \n",
    "    # Implement a queue and store all possible expansion of nodes from current node in it\n",
    "    # Implement a Set and add all nodes that arent visited before from the existing node\n",
    "    # Implement a dictionary and add all the partial plans that can be possible from a node\n",
    "    \n",
    "    q = Queue()\n",
    "    q.put(start)\n",
    "    visited = set()\n",
    "    visited.add(start)\n",
    "    \n",
    "    branch = {}\n",
    "    found = False\n",
    "    \n",
    "    # Run the loop while queue is not empty:\n",
    "    while not q.empty():\n",
    "        \n",
    "        current_node = q.get()\n",
    "        \n",
    "        # We will end the search and expansion after current node matches with the goal node\n",
    "        if current_node == goal:\n",
    "            print(\"Path Found\")\n",
    "            found = True\n",
    "            break\n",
    "            \n",
    "        else: # else we will continue the search and add nodes to queue and visited lists which aren't visited before\n",
    "            for action in valid_actions(grid, current_node):\n",
    "                da = action.value\n",
    "                next_node = (current_node[0] + da[0], current_node[1] + da[1])\n",
    "                if next_node not in visited:\n",
    "                    q.put(next_node)\n",
    "                    visited.add(next_node)\n",
    "                    branch[next_node] = (current_node, action)\n",
    "    \n",
    "    path = []\n",
    "    if found: # retracting the found path from goal state\n",
    "        \n",
    "        path = []\n",
    "        n = goal\n",
    "        while branch[n][0] != start:\n",
    "            path.append(branch[n][1])\n",
    "            n = branch[n][0]\n",
    "        path.append(branch[n][1])\n",
    "        \n",
    "    return path[::-1]"
   ]
  },
  {
   "cell_type": "code",
   "execution_count": 37,
   "id": "9f77f385",
   "metadata": {},
   "outputs": [
    {
     "name": "stdout",
     "output_type": "stream",
     "text": [
      "Path Found\n",
      "[<Action.DOWN: (1, 0)>, <Action.DOWN: (1, 0)>, <Action.DOWN: (1, 0)>, <Action.RIGHT: (0, 1)>, <Action.RIGHT: (0, 1)>, <Action.UP: (-1, 0)>, <Action.UP: (-1, 0)>, <Action.RIGHT: (0, 1)>, <Action.RIGHT: (0, 1)>, <Action.DOWN: (1, 0)>, <Action.RIGHT: (0, 1)>, <Action.DOWN: (1, 0)>, <Action.DOWN: (1, 0)>, <Action.LEFT: (0, -1)>]\n"
     ]
    }
   ],
   "source": [
    "path = breadth_first(grid, start, goal)\n",
    "print(path)"
   ]
  },
  {
   "cell_type": "code",
   "execution_count": 38,
   "id": "7e6feb1d",
   "metadata": {},
   "outputs": [
    {
     "name": "stdout",
     "output_type": "stream",
     "text": [
      "[['S' 'O' ' ' ' ' ' ' ' ']\n",
      " ['v' 'O' '>' '>' 'v' ' ']\n",
      " ['v' 'O' '^' 'O' '>' 'v']\n",
      " ['>' '>' '^' 'O' 'O' 'v']\n",
      " [' ' ' ' ' ' 'O' 'G' '<']]\n"
     ]
    }
   ],
   "source": [
    "path_rep = visualize_path(grid, start, goal)\n",
    "print(path_rep)"
   ]
  }
 ],
 "metadata": {
  "kernelspec": {
   "display_name": "Python 3",
   "language": "python",
   "name": "python3"
  },
  "language_info": {
   "codemirror_mode": {
    "name": "ipython",
    "version": 3
   },
   "file_extension": ".py",
   "mimetype": "text/x-python",
   "name": "python",
   "nbconvert_exporter": "python",
   "pygments_lexer": "ipython3",
   "version": "3.6.3"
  }
 },
 "nbformat": 4,
 "nbformat_minor": 5
}
